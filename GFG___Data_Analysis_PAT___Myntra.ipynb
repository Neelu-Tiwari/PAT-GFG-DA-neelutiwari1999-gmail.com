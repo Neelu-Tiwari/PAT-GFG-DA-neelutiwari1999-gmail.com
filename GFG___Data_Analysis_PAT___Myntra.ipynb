{
  "nbformat": 4,
  "nbformat_minor": 0,
  "metadata": {
    "colab": {
      "provenance": []
    },
    "kernelspec": {
      "name": "python3",
      "display_name": "Python 3"
    },
    "language_info": {
      "name": "python"
    }
  },
  "cells": [
    {
      "cell_type": "code",
      "execution_count": 234,
      "metadata": {
        "colab": {
          "base_uri": "https://localhost:8080/",
          "height": 426
        },
        "id": "hY6MzNU2rXtv",
        "outputId": "6d9e417f-8c86-4cd7-9e65-b33dd41f1f7e"
      },
      "outputs": [
        {
          "output_type": "execute_result",
          "data": {
            "text/plain": [
              "                     product_name      brand_name  rating  rating_count  \\\n",
              "0   Croc Textured Two Fold Wallet     Lino Perros     0.0             0   \n",
              "1             Men Striped Sliders  Mast & Harbour     4.0            76   \n",
              "2            Printed A-line Kurta            Biba     4.3            66   \n",
              "3    Girls Floral Printed T-shirt        Anthrilo     0.0             0   \n",
              "4  Women Printed Kurta with Skirt    FASHION DWAR     0.0             0   \n",
              "\n",
              "   marked_price  discounted_price                      sizes  \\\n",
              "0          1295               828                    Onesize   \n",
              "1          1299               584  UK6,UK7,UK8,UK9,UK10,UK11   \n",
              "2          1999              1599           S,M,L,XL,XXL,3XL   \n",
              "3           599               539            7-8Y,8-9Y,9-10Y   \n",
              "4          2899              2899                   S,M,L,XL   \n",
              "\n",
              "                                        product_link  \\\n",
              "0  wallets/lino-perros/lino-perros-women-peach-co...   \n",
              "1  flip-flops/mast--harbour/mast--harbour-men-nav...   \n",
              "2  kurtas/biba/biba-women-off-white--black-printe...   \n",
              "3  tshirts/anthrilo/anthrilo-girls-white-floral-p...   \n",
              "4  kurta-sets/fashion-dwar/fashion-dwar-women-mul...   \n",
              "\n",
              "                                            img_link product_tag  \\\n",
              "0  https://assets.myntassets.com/dpr_2,q_60,w_210...     wallets   \n",
              "1  https://assets.myntassets.com/dpr_2,q_60,w_210...  flip-flops   \n",
              "2  https://assets.myntassets.com/dpr_2,q_60,w_210...      kurtas   \n",
              "3  https://assets.myntassets.com/dpr_2,q_60,w_210...     tshirts   \n",
              "4  https://assets.myntassets.com/dpr_2,q_60,w_210...  kurta-sets   \n",
              "\n",
              "       brand_tag  discount_amount  discount_percent  \n",
              "0    lino-perros              467                36  \n",
              "1  mast--harbour              715                55  \n",
              "2           biba              400                20  \n",
              "3       anthrilo               60                10  \n",
              "4   fashion-dwar                0                 0  "
            ],
            "text/html": [
              "\n",
              "  <div id=\"df-89c91869-573b-435d-bef4-4f97f3639665\">\n",
              "    <div class=\"colab-df-container\">\n",
              "      <div>\n",
              "<style scoped>\n",
              "    .dataframe tbody tr th:only-of-type {\n",
              "        vertical-align: middle;\n",
              "    }\n",
              "\n",
              "    .dataframe tbody tr th {\n",
              "        vertical-align: top;\n",
              "    }\n",
              "\n",
              "    .dataframe thead th {\n",
              "        text-align: right;\n",
              "    }\n",
              "</style>\n",
              "<table border=\"1\" class=\"dataframe\">\n",
              "  <thead>\n",
              "    <tr style=\"text-align: right;\">\n",
              "      <th></th>\n",
              "      <th>product_name</th>\n",
              "      <th>brand_name</th>\n",
              "      <th>rating</th>\n",
              "      <th>rating_count</th>\n",
              "      <th>marked_price</th>\n",
              "      <th>discounted_price</th>\n",
              "      <th>sizes</th>\n",
              "      <th>product_link</th>\n",
              "      <th>img_link</th>\n",
              "      <th>product_tag</th>\n",
              "      <th>brand_tag</th>\n",
              "      <th>discount_amount</th>\n",
              "      <th>discount_percent</th>\n",
              "    </tr>\n",
              "  </thead>\n",
              "  <tbody>\n",
              "    <tr>\n",
              "      <th>0</th>\n",
              "      <td>Croc Textured Two Fold Wallet</td>\n",
              "      <td>Lino Perros</td>\n",
              "      <td>0.0</td>\n",
              "      <td>0</td>\n",
              "      <td>1295</td>\n",
              "      <td>828</td>\n",
              "      <td>Onesize</td>\n",
              "      <td>wallets/lino-perros/lino-perros-women-peach-co...</td>\n",
              "      <td>https://assets.myntassets.com/dpr_2,q_60,w_210...</td>\n",
              "      <td>wallets</td>\n",
              "      <td>lino-perros</td>\n",
              "      <td>467</td>\n",
              "      <td>36</td>\n",
              "    </tr>\n",
              "    <tr>\n",
              "      <th>1</th>\n",
              "      <td>Men Striped Sliders</td>\n",
              "      <td>Mast &amp; Harbour</td>\n",
              "      <td>4.0</td>\n",
              "      <td>76</td>\n",
              "      <td>1299</td>\n",
              "      <td>584</td>\n",
              "      <td>UK6,UK7,UK8,UK9,UK10,UK11</td>\n",
              "      <td>flip-flops/mast--harbour/mast--harbour-men-nav...</td>\n",
              "      <td>https://assets.myntassets.com/dpr_2,q_60,w_210...</td>\n",
              "      <td>flip-flops</td>\n",
              "      <td>mast--harbour</td>\n",
              "      <td>715</td>\n",
              "      <td>55</td>\n",
              "    </tr>\n",
              "    <tr>\n",
              "      <th>2</th>\n",
              "      <td>Printed A-line Kurta</td>\n",
              "      <td>Biba</td>\n",
              "      <td>4.3</td>\n",
              "      <td>66</td>\n",
              "      <td>1999</td>\n",
              "      <td>1599</td>\n",
              "      <td>S,M,L,XL,XXL,3XL</td>\n",
              "      <td>kurtas/biba/biba-women-off-white--black-printe...</td>\n",
              "      <td>https://assets.myntassets.com/dpr_2,q_60,w_210...</td>\n",
              "      <td>kurtas</td>\n",
              "      <td>biba</td>\n",
              "      <td>400</td>\n",
              "      <td>20</td>\n",
              "    </tr>\n",
              "    <tr>\n",
              "      <th>3</th>\n",
              "      <td>Girls Floral Printed T-shirt</td>\n",
              "      <td>Anthrilo</td>\n",
              "      <td>0.0</td>\n",
              "      <td>0</td>\n",
              "      <td>599</td>\n",
              "      <td>539</td>\n",
              "      <td>7-8Y,8-9Y,9-10Y</td>\n",
              "      <td>tshirts/anthrilo/anthrilo-girls-white-floral-p...</td>\n",
              "      <td>https://assets.myntassets.com/dpr_2,q_60,w_210...</td>\n",
              "      <td>tshirts</td>\n",
              "      <td>anthrilo</td>\n",
              "      <td>60</td>\n",
              "      <td>10</td>\n",
              "    </tr>\n",
              "    <tr>\n",
              "      <th>4</th>\n",
              "      <td>Women Printed Kurta with Skirt</td>\n",
              "      <td>FASHION DWAR</td>\n",
              "      <td>0.0</td>\n",
              "      <td>0</td>\n",
              "      <td>2899</td>\n",
              "      <td>2899</td>\n",
              "      <td>S,M,L,XL</td>\n",
              "      <td>kurta-sets/fashion-dwar/fashion-dwar-women-mul...</td>\n",
              "      <td>https://assets.myntassets.com/dpr_2,q_60,w_210...</td>\n",
              "      <td>kurta-sets</td>\n",
              "      <td>fashion-dwar</td>\n",
              "      <td>0</td>\n",
              "      <td>0</td>\n",
              "    </tr>\n",
              "  </tbody>\n",
              "</table>\n",
              "</div>\n",
              "      <button class=\"colab-df-convert\" onclick=\"convertToInteractive('df-89c91869-573b-435d-bef4-4f97f3639665')\"\n",
              "              title=\"Convert this dataframe to an interactive table.\"\n",
              "              style=\"display:none;\">\n",
              "        \n",
              "  <svg xmlns=\"http://www.w3.org/2000/svg\" height=\"24px\"viewBox=\"0 0 24 24\"\n",
              "       width=\"24px\">\n",
              "    <path d=\"M0 0h24v24H0V0z\" fill=\"none\"/>\n",
              "    <path d=\"M18.56 5.44l.94 2.06.94-2.06 2.06-.94-2.06-.94-.94-2.06-.94 2.06-2.06.94zm-11 1L8.5 8.5l.94-2.06 2.06-.94-2.06-.94L8.5 2.5l-.94 2.06-2.06.94zm10 10l.94 2.06.94-2.06 2.06-.94-2.06-.94-.94-2.06-.94 2.06-2.06.94z\"/><path d=\"M17.41 7.96l-1.37-1.37c-.4-.4-.92-.59-1.43-.59-.52 0-1.04.2-1.43.59L10.3 9.45l-7.72 7.72c-.78.78-.78 2.05 0 2.83L4 21.41c.39.39.9.59 1.41.59.51 0 1.02-.2 1.41-.59l7.78-7.78 2.81-2.81c.8-.78.8-2.07 0-2.86zM5.41 20L4 18.59l7.72-7.72 1.47 1.35L5.41 20z\"/>\n",
              "  </svg>\n",
              "      </button>\n",
              "      \n",
              "  <style>\n",
              "    .colab-df-container {\n",
              "      display:flex;\n",
              "      flex-wrap:wrap;\n",
              "      gap: 12px;\n",
              "    }\n",
              "\n",
              "    .colab-df-convert {\n",
              "      background-color: #E8F0FE;\n",
              "      border: none;\n",
              "      border-radius: 50%;\n",
              "      cursor: pointer;\n",
              "      display: none;\n",
              "      fill: #1967D2;\n",
              "      height: 32px;\n",
              "      padding: 0 0 0 0;\n",
              "      width: 32px;\n",
              "    }\n",
              "\n",
              "    .colab-df-convert:hover {\n",
              "      background-color: #E2EBFA;\n",
              "      box-shadow: 0px 1px 2px rgba(60, 64, 67, 0.3), 0px 1px 3px 1px rgba(60, 64, 67, 0.15);\n",
              "      fill: #174EA6;\n",
              "    }\n",
              "\n",
              "    [theme=dark] .colab-df-convert {\n",
              "      background-color: #3B4455;\n",
              "      fill: #D2E3FC;\n",
              "    }\n",
              "\n",
              "    [theme=dark] .colab-df-convert:hover {\n",
              "      background-color: #434B5C;\n",
              "      box-shadow: 0px 1px 3px 1px rgba(0, 0, 0, 0.15);\n",
              "      filter: drop-shadow(0px 1px 2px rgba(0, 0, 0, 0.3));\n",
              "      fill: #FFFFFF;\n",
              "    }\n",
              "  </style>\n",
              "\n",
              "      <script>\n",
              "        const buttonEl =\n",
              "          document.querySelector('#df-89c91869-573b-435d-bef4-4f97f3639665 button.colab-df-convert');\n",
              "        buttonEl.style.display =\n",
              "          google.colab.kernel.accessAllowed ? 'block' : 'none';\n",
              "\n",
              "        async function convertToInteractive(key) {\n",
              "          const element = document.querySelector('#df-89c91869-573b-435d-bef4-4f97f3639665');\n",
              "          const dataTable =\n",
              "            await google.colab.kernel.invokeFunction('convertToInteractive',\n",
              "                                                     [key], {});\n",
              "          if (!dataTable) return;\n",
              "\n",
              "          const docLinkHtml = 'Like what you see? Visit the ' +\n",
              "            '<a target=\"_blank\" href=https://colab.research.google.com/notebooks/data_table.ipynb>data table notebook</a>'\n",
              "            + ' to learn more about interactive tables.';\n",
              "          element.innerHTML = '';\n",
              "          dataTable['output_type'] = 'display_data';\n",
              "          await google.colab.output.renderOutput(dataTable, element);\n",
              "          const docLink = document.createElement('div');\n",
              "          docLink.innerHTML = docLinkHtml;\n",
              "          element.appendChild(docLink);\n",
              "        }\n",
              "      </script>\n",
              "    </div>\n",
              "  </div>\n",
              "  "
            ]
          },
          "metadata": {},
          "execution_count": 234
        }
      ],
      "source": [
        "import numpy as np\n",
        "import pandas as pd\n",
        "import seaborn as sns\n",
        "import matplotlib.pyplot as plt\n",
        "\n",
        "df = pd.read_csv('data.csv')\n",
        "df.head()"
      ]
    },
    {
      "cell_type": "markdown",
      "source": [
        "#Getting some information about data."
      ],
      "metadata": {
        "id": "mSM-mCcCvC-v"
      }
    },
    {
      "cell_type": "code",
      "source": [
        "df.shape   #tells you the number of records"
      ],
      "metadata": {
        "colab": {
          "base_uri": "https://localhost:8080/"
        },
        "id": "DUpR-qUSvGZ2",
        "outputId": "0ecd022e-9c93-4242-e776-fdcf842a0869"
      },
      "execution_count": 40,
      "outputs": [
        {
          "output_type": "execute_result",
          "data": {
            "text/plain": [
              "(168029, 13)"
            ]
          },
          "metadata": {},
          "execution_count": 40
        }
      ]
    },
    {
      "cell_type": "code",
      "source": [
        "df.info()      #tells the information about columns and its data types"
      ],
      "metadata": {
        "colab": {
          "base_uri": "https://localhost:8080/"
        },
        "id": "EIAZyPqAvKbo",
        "outputId": "a5d9743e-4e3b-4939-c7d8-ae9b24cee5ed"
      },
      "execution_count": 41,
      "outputs": [
        {
          "output_type": "stream",
          "name": "stdout",
          "text": [
            "<class 'pandas.core.frame.DataFrame'>\n",
            "RangeIndex: 168029 entries, 0 to 168028\n",
            "Data columns (total 13 columns):\n",
            " #   Column            Non-Null Count   Dtype  \n",
            "---  ------            --------------   -----  \n",
            " 0   product_name      168029 non-null  object \n",
            " 1   brand_name        168029 non-null  object \n",
            " 2   rating            168029 non-null  float64\n",
            " 3   rating_count      168029 non-null  int64  \n",
            " 4   marked_price      168029 non-null  int64  \n",
            " 5   discounted_price  168029 non-null  int64  \n",
            " 6   sizes             168029 non-null  object \n",
            " 7   product_link      168029 non-null  object \n",
            " 8   img_link          168029 non-null  object \n",
            " 9   product_tag       168029 non-null  object \n",
            " 10  brand_tag         168029 non-null  object \n",
            " 11  discount_amount   168029 non-null  int64  \n",
            " 12  discount_percent  168029 non-null  int64  \n",
            "dtypes: float64(1), int64(5), object(7)\n",
            "memory usage: 16.7+ MB\n"
          ]
        }
      ]
    },
    {
      "cell_type": "code",
      "source": [
        "df.isnull().sum()    #tells how many null values are present in data set, in this case there are no null values"
      ],
      "metadata": {
        "colab": {
          "base_uri": "https://localhost:8080/"
        },
        "id": "Z0zNWOHJvMFK",
        "outputId": "c8608fcb-d8fd-4199-953c-497a5cf6bae6"
      },
      "execution_count": 42,
      "outputs": [
        {
          "output_type": "execute_result",
          "data": {
            "text/plain": [
              "product_name        0\n",
              "brand_name          0\n",
              "rating              0\n",
              "rating_count        0\n",
              "marked_price        0\n",
              "discounted_price    0\n",
              "sizes               0\n",
              "product_link        0\n",
              "img_link            0\n",
              "product_tag         0\n",
              "brand_tag           0\n",
              "discount_amount     0\n",
              "discount_percent    0\n",
              "dtype: int64"
            ]
          },
          "metadata": {},
          "execution_count": 42
        }
      ]
    },
    {
      "cell_type": "code",
      "source": [
        "#checking and dropping duplicates\n",
        "df.duplicated()"
      ],
      "metadata": {
        "colab": {
          "base_uri": "https://localhost:8080/"
        },
        "id": "oIl1BqmU4eIw",
        "outputId": "9be7c0a3-5294-4658-c360-bbe58ec9b630"
      },
      "execution_count": 56,
      "outputs": [
        {
          "output_type": "execute_result",
          "data": {
            "text/plain": [
              "0         False\n",
              "1         False\n",
              "2         False\n",
              "3         False\n",
              "4         False\n",
              "          ...  \n",
              "168024     True\n",
              "168025     True\n",
              "168026     True\n",
              "168027     True\n",
              "168028     True\n",
              "Length: 168029, dtype: bool"
            ]
          },
          "metadata": {},
          "execution_count": 56
        }
      ]
    },
    {
      "cell_type": "code",
      "source": [
        "df.duplicated().sum()"
      ],
      "metadata": {
        "colab": {
          "base_uri": "https://localhost:8080/"
        },
        "id": "ThV2h3iM4jwy",
        "outputId": "a7bb04f2-db9c-4df6-81b7-246703b14f32"
      },
      "execution_count": 57,
      "outputs": [
        {
          "output_type": "execute_result",
          "data": {
            "text/plain": [
              "21418"
            ]
          },
          "metadata": {},
          "execution_count": 57
        }
      ]
    },
    {
      "cell_type": "code",
      "source": [
        "df.drop_duplicates(inplace=True)"
      ],
      "metadata": {
        "id": "dRL0Dq3Z4mIz"
      },
      "execution_count": 58,
      "outputs": []
    },
    {
      "cell_type": "code",
      "source": [
        "df.duplicated().sum()"
      ],
      "metadata": {
        "colab": {
          "base_uri": "https://localhost:8080/"
        },
        "id": "OShOnbmo5AcB",
        "outputId": "48390b6d-e198-420f-c7d0-23a9603edcc0"
      },
      "execution_count": 60,
      "outputs": [
        {
          "output_type": "execute_result",
          "data": {
            "text/plain": [
              "0"
            ]
          },
          "metadata": {},
          "execution_count": 60
        }
      ]
    },
    {
      "cell_type": "markdown",
      "source": [
        "#1. How many unique products are there in the dataset? (5 marks)\n",
        "You need to find product ID of each product from product_link and then find the number of unique product ids\n",
        "1.   Finding Unique Products as per their Product ID\n",
        "2.   Removing Products with Duplicate Product ID\n",
        "\n",
        "\n"
      ],
      "metadata": {
        "id": "FOkv_FI9uPrP"
      }
    },
    {
      "cell_type": "code",
      "source": [
        "df['product_name'].nunique()"
      ],
      "metadata": {
        "colab": {
          "base_uri": "https://localhost:8080/"
        },
        "id": "cgQswdAf02Nw",
        "outputId": "3ba59c09-185b-4167-85b2-00dfc3bae829"
      },
      "execution_count": 244,
      "outputs": [
        {
          "output_type": "execute_result",
          "data": {
            "text/plain": [
              "46013"
            ]
          },
          "metadata": {},
          "execution_count": 244
        }
      ]
    },
    {
      "cell_type": "markdown",
      "source": [
        "#2. What is the average rating of the products? (2 mark)\n",
        "Try it without the product that are having rating 0 Try it without the product that are having 0 people given any rating"
      ],
      "metadata": {
        "id": "jnTOFnfd002o"
      }
    },
    {
      "cell_type": "code",
      "source": [
        "df['rating'].mean()  #might be differ as many products are not rated or rated as 0"
      ],
      "metadata": {
        "colab": {
          "base_uri": "https://localhost:8080/"
        },
        "id": "gvXTMeCHuW_t",
        "outputId": "ff2582a4-1672-4f42-c273-a0d34276713d"
      },
      "execution_count": 61,
      "outputs": [
        {
          "output_type": "execute_result",
          "data": {
            "text/plain": [
              "2.317154238085819"
            ]
          },
          "metadata": {},
          "execution_count": 61
        }
      ]
    },
    {
      "cell_type": "code",
      "source": [
        "#calculating average rating of non-zero rated products\n",
        "rating=0\n",
        "count =0\n",
        "\n",
        "for i in df['rating']:\n",
        "  if (i !=0.0):\n",
        "    rating +=i\n",
        "    count +=1\n",
        "\n",
        "avg_rating= rating/count\n",
        "print('The average rating of the products: ', round(avg_rating, 2))\n"
      ],
      "metadata": {
        "colab": {
          "base_uri": "https://localhost:8080/"
        },
        "id": "4BzThfeMyGUA",
        "outputId": "34800d81-efe0-425b-f7ca-503768366a07"
      },
      "execution_count": 62,
      "outputs": [
        {
          "output_type": "stream",
          "name": "stdout",
          "text": [
            "The average rating of the products:  4.17\n"
          ]
        }
      ]
    },
    {
      "cell_type": "markdown",
      "source": [
        "#3. What is the average discount percentage of the products? (1 mark)"
      ],
      "metadata": {
        "id": "gqgJhZKuubfw"
      }
    },
    {
      "cell_type": "code",
      "source": [
        "df['discount_percent']"
      ],
      "metadata": {
        "colab": {
          "base_uri": "https://localhost:8080/"
        },
        "id": "UtNsYO2-ue3m",
        "outputId": "5d2be7b7-4da5-4cc8-dbd3-19311e5542c7"
      },
      "execution_count": 75,
      "outputs": [
        {
          "output_type": "execute_result",
          "data": {
            "text/plain": [
              "0         36\n",
              "1         55\n",
              "2         20\n",
              "3         10\n",
              "4          0\n",
              "          ..\n",
              "167987    60\n",
              "167988    61\n",
              "167989    45\n",
              "167990    50\n",
              "167991     0\n",
              "Name: discount_percent, Length: 146611, dtype: int64"
            ]
          },
          "metadata": {},
          "execution_count": 75
        }
      ]
    },
    {
      "cell_type": "code",
      "source": [
        "df['discount_percent'].mean()   #might be differ as many products are not rated or discounted as 0"
      ],
      "metadata": {
        "colab": {
          "base_uri": "https://localhost:8080/"
        },
        "id": "23rJSKBC8cGC",
        "outputId": "78ea3050-6007-4815-c5eb-bb5867b312d1"
      },
      "execution_count": 83,
      "outputs": [
        {
          "output_type": "execute_result",
          "data": {
            "text/plain": [
              "37.147765174509416"
            ]
          },
          "metadata": {},
          "execution_count": 83
        }
      ]
    },
    {
      "cell_type": "code",
      "source": [
        "#calculating average rating of non-zero discounted products\n",
        "discount=0\n",
        "count =0\n",
        "\n",
        "for i in df['discount_percent']:\n",
        "  if (i !=0):\n",
        "    discount +=i\n",
        "    count +=1\n",
        "\n",
        "avg_discount= discount/count\n",
        "print('The average discount percent of the products: ', round(avg_discount, 2))\n"
      ],
      "metadata": {
        "colab": {
          "base_uri": "https://localhost:8080/"
        },
        "id": "UnfJGui-8HzT",
        "outputId": "d944b4b0-0dd7-4a30-d2c1-50df4ce2c085"
      },
      "execution_count": 82,
      "outputs": [
        {
          "output_type": "stream",
          "name": "stdout",
          "text": [
            "The average discount percent of the products:  45.1\n"
          ]
        }
      ]
    },
    {
      "cell_type": "markdown",
      "source": [
        "#4. What are the top 5 most expensive products? (2 marks)\n",
        "Make sure that there can be multiple brands with same name so you can take brand ID also into considration"
      ],
      "metadata": {
        "id": "fhpdUZgKufN5"
      }
    },
    {
      "cell_type": "code",
      "source": [
        "#5 most expensive products (marked prices)\n",
        "df.groupby('product_name').mean()['marked_price'].sort_values(ascending=False).head(5)"
      ],
      "metadata": {
        "colab": {
          "base_uri": "https://localhost:8080/"
        },
        "id": "_ngrVC3KuiZZ",
        "outputId": "dc85963e-673c-44df-af4b-14c215d88a39"
      },
      "execution_count": 287,
      "outputs": [
        {
          "output_type": "stream",
          "name": "stderr",
          "text": [
            "<ipython-input-287-8b521e6101c6>:2: FutureWarning: The default value of numeric_only in DataFrameGroupBy.mean is deprecated. In a future version, numeric_only will default to False. Either specify numeric_only or select only columns which should be valid for the function.\n",
            "  df.groupby('product_name').mean()['marked_price'].sort_values(ascending=False).head(5)\n"
          ]
        },
        {
          "output_type": "execute_result",
          "data": {
            "text/plain": [
              "product_name\n",
              "Lord Krishna Showpiece                                              113999.000000\n",
              "Durga Maa On Lion Showpiece                                          71999.000000\n",
              "Men Stainless Steel Straps Multi Function Automatic Motion Watch     57200.000000\n",
              "Men Stainless Steel Straps Automatic Motion Watch                    46077.222222\n",
              "Men Leather Straps Multi Function Automatic Motion Watch             45825.000000\n",
              "Name: marked_price, dtype: float64"
            ]
          },
          "metadata": {},
          "execution_count": 287
        }
      ]
    },
    {
      "cell_type": "code",
      "source": [
        "#5 most expensive products (discounted prices)\n",
        "df.groupby('product_name').mean()['discounted_price'].sort_values(ascending=False).head(5)"
      ],
      "metadata": {
        "colab": {
          "base_uri": "https://localhost:8080/"
        },
        "id": "FrUByqKl-wiq",
        "outputId": "bfd1b10d-1e7b-4d1a-b6d6-59be81d3ffc9"
      },
      "execution_count": 288,
      "outputs": [
        {
          "output_type": "stream",
          "name": "stderr",
          "text": [
            "<ipython-input-288-096ffd1a649f>:2: FutureWarning: The default value of numeric_only in DataFrameGroupBy.mean is deprecated. In a future version, numeric_only will default to False. Either specify numeric_only or select only columns which should be valid for the function.\n",
            "  df.groupby('product_name').mean()['discounted_price'].sort_values(ascending=False).head(5)\n"
          ]
        },
        {
          "output_type": "execute_result",
          "data": {
            "text/plain": [
              "product_name\n",
              "Lord Krishna Showpiece              45599.0\n",
              "Airwrap Complete Hair Styler        44900.0\n",
              "Mid-Rise Stretchable Jeans          41000.0\n",
              "Printed Carpets                     40350.0\n",
              "Men Brass Dial & Automatic Watch    40050.0\n",
              "Name: discounted_price, dtype: float64"
            ]
          },
          "metadata": {},
          "execution_count": 288
        }
      ]
    },
    {
      "cell_type": "markdown",
      "source": [
        "#5. What are the top 10 brands by the number of products in the dataset? (2 mark)"
      ],
      "metadata": {
        "id": "nM9KURpquivo"
      }
    },
    {
      "cell_type": "code",
      "source": [
        "#unique brands in data set\n",
        "len(df['brand_name'].unique())"
      ],
      "metadata": {
        "colab": {
          "base_uri": "https://localhost:8080/"
        },
        "id": "QaKEPaccuq29",
        "outputId": "4c943676-f8c6-484d-bf8b-7d1b761240ce"
      },
      "execution_count": 89,
      "outputs": [
        {
          "output_type": "execute_result",
          "data": {
            "text/plain": [
              "3194"
            ]
          },
          "metadata": {},
          "execution_count": 89
        }
      ]
    },
    {
      "cell_type": "code",
      "source": [
        "#product counts in different brands\n",
        "df_brand=df.groupby('brand_name')['product_name'].count()\n",
        "df_brand.sort_values(ascending=False).head(10)\n"
      ],
      "metadata": {
        "colab": {
          "base_uri": "https://localhost:8080/"
        },
        "id": "vN7DCOfBBzfx",
        "outputId": "8950c895-77a0-469c-f23e-46517ec12731"
      },
      "execution_count": 116,
      "outputs": [
        {
          "output_type": "execute_result",
          "data": {
            "text/plain": [
              "brand_name\n",
              "Roadster                 4557\n",
              "Mast & Harbour           2398\n",
              "DressBerry               2077\n",
              "H&M                      1998\n",
              "Anouk                    1785\n",
              "max                      1773\n",
              "HRX by Hrithik Roshan    1746\n",
              "Puma                     1668\n",
              "MANGO                    1626\n",
              "HERE&NOW                 1620\n",
              "Name: product_name, dtype: int64"
            ]
          },
          "metadata": {},
          "execution_count": 116
        }
      ]
    },
    {
      "cell_type": "markdown",
      "source": [
        "#6. List top 5 brands with maxiumum average rating of products? (2 marks)\n",
        "Neglect the products which are not reviewed by any person"
      ],
      "metadata": {
        "id": "XYDsIRCIE2ka"
      }
    },
    {
      "cell_type": "code",
      "source": [
        "df_brand_rating = df[df['rating'] != 0]\n",
        "df_brand_rating.groupby('brand_name').mean()['rating'].sort_values(ascending=False).head(5)\n"
      ],
      "metadata": {
        "colab": {
          "base_uri": "https://localhost:8080/"
        },
        "id": "FqTEdkG-E50y",
        "outputId": "436f26c0-337f-4195-8c6c-41a2d24881ba"
      },
      "execution_count": 255,
      "outputs": [
        {
          "output_type": "stream",
          "name": "stderr",
          "text": [
            "<ipython-input-255-456adcdc5185>:2: FutureWarning: The default value of numeric_only in DataFrameGroupBy.mean is deprecated. In a future version, numeric_only will default to False. Either specify numeric_only or select only columns which should be valid for the function.\n",
            "  df_brand_rating.groupby('brand_name').mean()['rating'].sort_values(ascending=False).head(5)\n"
          ]
        },
        {
          "output_type": "execute_result",
          "data": {
            "text/plain": [
              "brand_name\n",
              "1 Stop Fashion              5.0\n",
              "Luxure by Louis Philippe    5.0\n",
              "Tiara                       5.0\n",
              "Anahi                       5.0\n",
              "SHIRT THEORY                5.0\n",
              "Name: rating, dtype: float64"
            ]
          },
          "metadata": {},
          "execution_count": 255
        }
      ]
    },
    {
      "cell_type": "markdown",
      "source": [
        "#7. Plot a histogram of the distribution of ratings of following brand. (3 marks)\n",
        "  \n",
        "  1.H&M\n",
        "\n",
        "  2.max\n",
        "\n",
        "  3.Puma\n",
        "\n",
        "  4.MANGO\n",
        "\n",
        "Neglect the products which are not reviewed by any person"
      ],
      "metadata": {
        "id": "3RBYLKY2J1Ks"
      }
    },
    {
      "cell_type": "code",
      "source": [
        "#Filtering out the required columns from dataframe \n",
        "brands = ['H&M', 'max', 'Puma', 'MANGO']\n",
        "df1=df[df['brand_name'].isin(brands)]\n",
        "#neglecting the zero rating\n",
        "df1 = df1[df1['rating'] != 0]\n",
        "#plotting ratings of mentions brands\n",
        "df1.groupby('brand_name').mean()['rating'].plot()"
      ],
      "metadata": {
        "colab": {
          "base_uri": "https://localhost:8080/",
          "height": 522
        },
        "id": "MstaWMvlKNLc",
        "outputId": "6e30a5ec-c409-4f52-ac89-283e5528251f"
      },
      "execution_count": 308,
      "outputs": [
        {
          "output_type": "stream",
          "name": "stderr",
          "text": [
            "<ipython-input-308-6f3a5dbaa21d>:7: FutureWarning: The default value of numeric_only in DataFrameGroupBy.mean is deprecated. In a future version, numeric_only will default to False. Either specify numeric_only or select only columns which should be valid for the function.\n",
            "  df1.groupby('brand_name').mean()['rating'].plot()\n"
          ]
        },
        {
          "output_type": "execute_result",
          "data": {
            "text/plain": [
              "<Axes: xlabel='brand_name'>"
            ]
          },
          "metadata": {},
          "execution_count": 308
        },
        {
          "output_type": "display_data",
          "data": {
            "text/plain": [
              "<Figure size 640x480 with 1 Axes>"
            ],
            "image/png": "[encoded data removed]"
          },
          "metadata": {}
        }
      ]
    },
    {
      "cell_type": "markdown",
      "source": [
        "From the above plot we can say that there is a very less difference between the ratings of the brands. These 4 brands are most liked by the customers."
      ],
      "metadata": {
        "id": "3627ueZewbzf"
      }
    },
    {
      "cell_type": "markdown",
      "source": [
        "#8. What is the distribution of discounts by brand for specific brands mentioned below? (2 marks)\n",
        "   \n",
        "   1.H&M\n",
        "\n",
        "   2.max\n",
        "\n",
        "   3.Puma\n",
        "\n",
        "   3.MANGO\n",
        "\n",
        "Neglect the products which are not reviewed by any person. Neglect the products which are not on any discount."
      ],
      "metadata": {
        "id": "nh1_42UdKNih"
      }
    },
    {
      "cell_type": "code",
      "source": [
        "#Filtering out the required columns from dataframe \n",
        "brands = ['H&M', 'max', 'Puma', 'MANGO']\n",
        "df2=df[df['brand_name'].isin(brands)]\n",
        "#neglecting the zero rating\n",
        "df2 = df1[df1['discount_percent'] != 0]\n",
        "#plotting ratings of mentions brands\n",
        "df2.groupby('brand_name').mean()['discount_percent'].plot()"
      ],
      "metadata": {
        "colab": {
          "base_uri": "https://localhost:8080/",
          "height": 522
        },
        "id": "cRxA4RUBKcEg",
        "outputId": "0c29207c-c31a-4120-81fb-ebb1893a30d8"
      },
      "execution_count": 309,
      "outputs": [
        {
          "output_type": "stream",
          "name": "stderr",
          "text": [
            "<ipython-input-309-6886fbd26bc8>:7: FutureWarning: The default value of numeric_only in DataFrameGroupBy.mean is deprecated. In a future version, numeric_only will default to False. Either specify numeric_only or select only columns which should be valid for the function.\n",
            "  df2.groupby('brand_name').mean()['discount_percent'].plot()\n"
          ]
        },
        {
          "output_type": "execute_result",
          "data": {
            "text/plain": [
              "<Axes: xlabel='brand_name'>"
            ]
          },
          "metadata": {},
          "execution_count": 309
        },
        {
          "output_type": "display_data",
          "data": {
            "text/plain": [
              "<Figure size 640x480 with 1 Axes>"
            ],
            "image/png": "[encoded data removed]"
          },
          "metadata": {}
        }
      ]
    },
    {
      "cell_type": "markdown",
      "source": [
        "#Is there any trend or pattern you can find between discount percent and rating of the product? (3 marks)"
      ],
      "metadata": {
        "id": "sj10zbCpKcSs"
      }
    },
    {
      "cell_type": "code",
      "source": [],
      "metadata": {
        "id": "xaNF6DFNKjvZ"
      },
      "execution_count": 289,
      "outputs": []
    },
    {
      "cell_type": "markdown",
      "source": [
        "#10. What are the top 10 most popular tags in the dataset? (2 marks)"
      ],
      "metadata": {
        "id": "vGkkVZjFKj5a"
      }
    },
    {
      "cell_type": "code",
      "source": [
        "#top 10 popular product tags\n",
        "df.groupby('product_tag').size().sort_values(ascending=False).head(10)"
      ],
      "metadata": {
        "colab": {
          "base_uri": "https://localhost:8080/"
        },
        "id": "MFHogyOBKDUF",
        "outputId": "6ae2244f-23e0-4814-ba7b-d65975241ecf"
      },
      "execution_count": 145,
      "outputs": [
        {
          "output_type": "execute_result",
          "data": {
            "text/plain": [
              "product_tag\n",
              "tshirts         16978\n",
              "shirts          12044\n",
              "dresses         11836\n",
              "tops             9049\n",
              "kurta-sets       8170\n",
              "kurtas           8043\n",
              "jeans            7669\n",
              "trousers         5756\n",
              "casual-shoes     5230\n",
              "handbags         4944\n",
              "dtype: int64"
            ]
          },
          "metadata": {},
          "execution_count": 145
        }
      ]
    },
    {
      "cell_type": "markdown",
      "source": [
        "#11. Are there any relations between the rating and number of people who rated the products? (4 marks)\n",
        "Neglect the products that are not reviewed by any person\n",
        "\n",
        "Neglect the products that are having zero rating"
      ],
      "metadata": {
        "id": "urzfhoA1LIVr"
      }
    },
    {
      "cell_type": "code",
      "source": [],
      "metadata": {
        "id": "PNwx0Fp3LPYk"
      },
      "execution_count": null,
      "outputs": []
    },
    {
      "cell_type": "markdown",
      "source": [
        "#12. What are the top 10 Most Expensive brands? (3 marks)\n",
        "Use marked price as the reference to find the most expensive brand"
      ],
      "metadata": {
        "id": "iT8voUK2LPwd"
      }
    },
    {
      "cell_type": "code",
      "source": [
        "#top 10 most expensive brands\n",
        "df.groupby('brand_name').mean()['marked_price'].sort_values(ascending = False).head(10)"
      ],
      "metadata": {
        "colab": {
          "base_uri": "https://localhost:8080/"
        },
        "id": "iFBkmdGee2Cs",
        "outputId": "4e4316d9-8b26-4862-9997-7c42438ad0cb"
      },
      "execution_count": 257,
      "outputs": [
        {
          "output_type": "stream",
          "name": "stderr",
          "text": [
            "<ipython-input-257-49b9ece5303a>:1: FutureWarning: The default value of numeric_only in DataFrameGroupBy.mean is deprecated. In a future version, numeric_only will default to False. Either specify numeric_only or select only columns which should be valid for the function.\n",
            "  df.groupby('brand_name').mean()['marked_price'].sort_values(ascending = False).head(10)\n"
          ]
        },
        {
          "output_type": "execute_result",
          "data": {
            "text/plain": [
              "brand_name\n",
              "EARNSHAW                 47603.846154\n",
              "Victorinox               44000.000000\n",
              "MOSCHINO COUTURE         40000.000000\n",
              "dyson                    39233.333333\n",
              "Tom Ford                 38800.000000\n",
              "Valuchi                  38050.000000\n",
              "Bottega Veneta           34490.000000\n",
              "Versace Jeans Couture    33125.000000\n",
              "TISSOT                   31928.571429\n",
              "DUCATI CORSE             31665.666667\n",
              "Name: marked_price, dtype: float64"
            ]
          },
          "metadata": {},
          "execution_count": 257
        }
      ]
    },
    {
      "cell_type": "markdown",
      "source": [
        "#13. What are the top 10 Most Expensive Product Category? (4 marks)\n",
        "Use marked price as the reference to find the most expensive brand"
      ],
      "metadata": {
        "id": "LG7fpsk-Ow9_"
      }
    },
    {
      "cell_type": "code",
      "source": [
        "#top 10 most expensive product tags\n",
        "df.groupby('product_tag').mean()['marked_price'].sort_values(ascending=False).head(10)"
      ],
      "metadata": {
        "colab": {
          "base_uri": "https://localhost:8080/"
        },
        "id": "we97CUUqOyYh",
        "outputId": "42dd3b74-1c4a-41d5-ed18-0ea3b3a0f54b"
      },
      "execution_count": 258,
      "outputs": [
        {
          "output_type": "stream",
          "name": "stderr",
          "text": [
            "<ipython-input-258-b1b48df56793>:1: FutureWarning: The default value of numeric_only in DataFrameGroupBy.mean is deprecated. In a future version, numeric_only will default to False. Either specify numeric_only or select only columns which should be valid for the function.\n",
            "  df.groupby('product_tag').mean()['marked_price'].sort_values(ascending=False).head(10)\n"
          ]
        },
        {
          "output_type": "execute_result",
          "data": {
            "text/plain": [
              "product_tag\n",
              "trolley-bag           13329.343333\n",
              "suits                 11926.784566\n",
              "fitness-bands         11713.285714\n",
              "watch-gift-set        10951.516129\n",
              "badminton-racquets    10850.000000\n",
              "sherwani              10004.250000\n",
              "floor-lamps            8979.891892\n",
              "smart-watches          8946.029661\n",
              "air-fryer              8850.000000\n",
              "carpets                8693.397727\n",
              "Name: marked_price, dtype: float64"
            ]
          },
          "metadata": {},
          "execution_count": 258
        }
      ]
    },
    {
      "cell_type": "markdown",
      "source": [
        "#14. Analyse the Violen Plot of watches of following brands mentioned below ? (5 marks)\n",
        "Take Marked Price for Reference\n",
        "Take product_tag as watches\n",
        "Take brand_tag as tommy-hilfiger, daniel-wellington, armani-exchange, emporio-armani, earnshaw, tissot\n",
        "Make sure to write your inference based on the violen plot of following watch brands price"
      ],
      "metadata": {
        "id": "ShfVIfxlWMJd"
      }
    },
    {
      "cell_type": "code",
      "source": [],
      "metadata": {
        "id": "G9ERLjSpWQ5s"
      },
      "execution_count": null,
      "outputs": []
    },
    {
      "cell_type": "markdown",
      "source": [
        "#15. List top 5 brands which are having most wide range or products\n",
        "Use marked price as the reference\n"
      ],
      "metadata": {
        "id": "9AJZhGCrWUcl"
      }
    },
    {
      "cell_type": "code",
      "source": [
        "#top five brands having wide range of products\n",
        "df.groupby('brand_name')['product_tag'].nunique().sort_values(ascending=False).head(10)\n"
      ],
      "metadata": {
        "colab": {
          "base_uri": "https://localhost:8080/"
        },
        "id": "XiKH4rTgWVde",
        "outputId": "44bf918b-39a3-4fec-e854-62964a275e70"
      },
      "execution_count": 231,
      "outputs": [
        {
          "output_type": "execute_result",
          "data": {
            "text/plain": [
              "brand_name\n",
              "H&M                74\n",
              "Marks & Spencer    53\n",
              "MANGO              50\n",
              "max                50\n",
              "Roadster           49\n",
              "DressBerry         49\n",
              "FOREVER 21         45\n",
              "Mast & Harbour     44\n",
              "Puma               41\n",
              "URBANIC            40\n",
              "Name: product_tag, dtype: int64"
            ]
          },
          "metadata": {},
          "execution_count": 231
        }
      ]
    }
  ]
}